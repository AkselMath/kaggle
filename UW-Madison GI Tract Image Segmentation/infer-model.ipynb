{
 "cells": [
  {
   "cell_type": "code",
   "execution_count": 1,
   "id": "4e052f7a",
   "metadata": {
    "execution": {
     "iopub.execute_input": "2022-06-19T10:44:09.378217Z",
     "iopub.status.busy": "2022-06-19T10:44:09.377145Z",
     "iopub.status.idle": "2022-06-19T10:44:23.453616Z",
     "shell.execute_reply": "2022-06-19T10:44:23.452633Z"
    },
    "papermill": {
     "duration": 14.086092,
     "end_time": "2022-06-19T10:44:23.455835",
     "exception": false,
     "start_time": "2022-06-19T10:44:09.369743",
     "status": "completed"
    },
    "tags": []
   },
   "outputs": [
    {
     "name": "stdout",
     "output_type": "stream",
     "text": [
      "Looking in links: ../input/download-segmentation-model-pytorch-packages\r\n",
      "Processing /kaggle/input/download-segmentation-model-pytorch-packages/segmentation_models_pytorch-0.2.1-py3-none-any.whl\r\n",
      "Processing /kaggle/input/download-segmentation-model-pytorch-packages/efficientnet_pytorch-0.6.3.tar.gz\r\n",
      "  Preparing metadata (setup.py) ... \u001b[?25l-\b \bdone\r\n",
      "\u001b[?25hProcessing /kaggle/input/download-segmentation-model-pytorch-packages/timm-0.4.12-py3-none-any.whl\r\n",
      "Requirement already satisfied: torchvision>=0.5.0 in /opt/conda/lib/python3.7/site-packages (from segmentation-models-pytorch) (0.12.0)\r\n",
      "Processing /kaggle/input/download-segmentation-model-pytorch-packages/pretrainedmodels-0.7.4.tar.gz\r\n",
      "  Preparing metadata (setup.py) ... \u001b[?25l-\b \bdone\r\n",
      "\u001b[?25hRequirement already satisfied: torch in /opt/conda/lib/python3.7/site-packages (from efficientnet-pytorch==0.6.3->segmentation-models-pytorch) (1.11.0)\r\n",
      "Requirement already satisfied: munch in /opt/conda/lib/python3.7/site-packages (from pretrainedmodels==0.7.4->segmentation-models-pytorch) (2.5.0)\r\n",
      "Requirement already satisfied: tqdm in /opt/conda/lib/python3.7/site-packages (from pretrainedmodels==0.7.4->segmentation-models-pytorch) (4.64.0)\r\n",
      "Requirement already satisfied: pillow!=8.3.*,>=5.3.0 in /opt/conda/lib/python3.7/site-packages (from torchvision>=0.5.0->segmentation-models-pytorch) (9.1.0)\r\n",
      "Requirement already satisfied: numpy in /opt/conda/lib/python3.7/site-packages (from torchvision>=0.5.0->segmentation-models-pytorch) (1.21.6)\r\n",
      "Requirement already satisfied: typing-extensions in /opt/conda/lib/python3.7/site-packages (from torchvision>=0.5.0->segmentation-models-pytorch) (4.2.0)\r\n",
      "Requirement already satisfied: requests in /opt/conda/lib/python3.7/site-packages (from torchvision>=0.5.0->segmentation-models-pytorch) (2.27.1)\r\n",
      "Requirement already satisfied: six in /opt/conda/lib/python3.7/site-packages (from munch->pretrainedmodels==0.7.4->segmentation-models-pytorch) (1.16.0)\r\n",
      "Requirement already satisfied: urllib3<1.27,>=1.21.1 in /opt/conda/lib/python3.7/site-packages (from requests->torchvision>=0.5.0->segmentation-models-pytorch) (1.26.9)\r\n",
      "Requirement already satisfied: certifi>=2017.4.17 in /opt/conda/lib/python3.7/site-packages (from requests->torchvision>=0.5.0->segmentation-models-pytorch) (2022.5.18.1)\r\n",
      "Requirement already satisfied: idna<4,>=2.5 in /opt/conda/lib/python3.7/site-packages (from requests->torchvision>=0.5.0->segmentation-models-pytorch) (3.3)\r\n",
      "Requirement already satisfied: charset-normalizer~=2.0.0 in /opt/conda/lib/python3.7/site-packages (from requests->torchvision>=0.5.0->segmentation-models-pytorch) (2.0.12)\r\n",
      "Building wheels for collected packages: efficientnet-pytorch, pretrainedmodels\r\n",
      "  Building wheel for efficientnet-pytorch (setup.py) ... \u001b[?25l-\b \b\\\b \bdone\r\n",
      "\u001b[?25h  Created wheel for efficientnet-pytorch: filename=efficientnet_pytorch-0.6.3-py3-none-any.whl size=12421 sha256=e4d795b82c19958fd974a2a3744e66eff4e2ba319849fa2a28f9cba0c095060d\r\n",
      "  Stored in directory: /root/.cache/pip/wheels/85/d7/32/a8011e6040084d93bd02efac7f7d0bb9610e09a85540cf61c9\r\n",
      "  Building wheel for pretrainedmodels (setup.py) ... \u001b[?25l-\b \b\\\b \bdone\r\n",
      "\u001b[?25h  Created wheel for pretrainedmodels: filename=pretrainedmodels-0.7.4-py3-none-any.whl size=60965 sha256=06220c90f2683f15670a30195124cda0ae3461c4e71f4883365f186c18b7cc54\r\n",
      "  Stored in directory: /root/.cache/pip/wheels/d8/bb/3c/a961e3902b345dedce4d21a5bd728eaea0ab7493c9de7d2da4\r\n",
      "Successfully built efficientnet-pytorch pretrainedmodels\r\n",
      "Installing collected packages: efficientnet-pytorch, timm, pretrainedmodels, segmentation-models-pytorch\r\n",
      "Successfully installed efficientnet-pytorch-0.6.3 pretrainedmodels-0.7.4 segmentation-models-pytorch-0.2.1 timm-0.4.12\r\n",
      "\u001b[33mWARNING: Running pip as the 'root' user can result in broken permissions and conflicting behaviour with the system package manager. It is recommended to use a virtual environment instead: https://pip.pypa.io/warnings/venv\u001b[0m\u001b[33m\r\n",
      "\u001b[0m"
     ]
    }
   ],
   "source": [
    "!pip install --no-index --find-links=\"../input/download-segmentation-model-pytorch-packages\" segmentation-models-pytorch"
   ]
  },
  {
   "cell_type": "code",
   "execution_count": 2,
   "id": "1c31caab",
   "metadata": {
    "execution": {
     "iopub.execute_input": "2022-06-19T10:44:23.467673Z",
     "iopub.status.busy": "2022-06-19T10:44:23.467363Z",
     "iopub.status.idle": "2022-06-19T10:44:33.241087Z",
     "shell.execute_reply": "2022-06-19T10:44:33.240146Z"
    },
    "papermill": {
     "duration": 9.782264,
     "end_time": "2022-06-19T10:44:33.243574",
     "exception": false,
     "start_time": "2022-06-19T10:44:23.461310",
     "status": "completed"
    },
    "tags": []
   },
   "outputs": [],
   "source": [
    "import numpy as np\n",
    "import pandas as pd\n",
    "import matplotlib.pyplot as plt\n",
    "from PIL import Image\n",
    "from skimage.io import imread\n",
    "import math\n",
    "import cv2\n",
    "from matplotlib.patches import Rectangle\n",
    "\n",
    "import torch\n",
    "from torch.utils.data import random_split\n",
    "from torch.utils.data import DataLoader\n",
    "from torchvision import transforms\n",
    "\n",
    "import torch\n",
    "import torch.nn as nn\n",
    "import torch.nn.functional as F\n",
    "from torchvision import models\n",
    "import torch.optim as optim\n",
    "from torch.cuda import amp\n",
    "\n",
    "from tensorflow.keras.utils import to_categorical\n",
    "\n",
    "import segmentation_models_pytorch as smp\n",
    "\n",
    "import os, glob"
   ]
  },
  {
   "cell_type": "code",
   "execution_count": 3,
   "id": "7e2609cd",
   "metadata": {
    "execution": {
     "iopub.execute_input": "2022-06-19T10:44:33.255890Z",
     "iopub.status.busy": "2022-06-19T10:44:33.254917Z",
     "iopub.status.idle": "2022-06-19T10:44:33.319259Z",
     "shell.execute_reply": "2022-06-19T10:44:33.318555Z"
    },
    "papermill": {
     "duration": 0.07213,
     "end_time": "2022-06-19T10:44:33.321022",
     "exception": false,
     "start_time": "2022-06-19T10:44:33.248892",
     "status": "completed"
    },
    "tags": []
   },
   "outputs": [
    {
     "data": {
      "text/plain": [
       "device(type='cuda')"
      ]
     },
     "execution_count": 3,
     "metadata": {},
     "output_type": "execute_result"
    }
   ],
   "source": [
    "PATH = '../input/uw-madison-gi-tract-image-segmentation'\n",
    "SEED = 42\n",
    "batch_size = 32\n",
    "RESCALE_SIZE = 224\n",
    "torch.manual_seed(SEED)\n",
    "device = torch.device('cuda' if torch.cuda.is_available() else 'cpu')\n",
    "device"
   ]
  },
  {
   "cell_type": "code",
   "execution_count": 4,
   "id": "bb36d483",
   "metadata": {
    "execution": {
     "iopub.execute_input": "2022-06-19T10:44:33.332446Z",
     "iopub.status.busy": "2022-06-19T10:44:33.332152Z",
     "iopub.status.idle": "2022-06-19T10:44:34.275773Z",
     "shell.execute_reply": "2022-06-19T10:44:34.274992Z"
    },
    "papermill": {
     "duration": 0.951294,
     "end_time": "2022-06-19T10:44:34.277556",
     "exception": false,
     "start_time": "2022-06-19T10:44:33.326262",
     "status": "completed"
    },
    "tags": []
   },
   "outputs": [
    {
     "data": {
      "text/html": [
       "<div>\n",
       "<style scoped>\n",
       "    .dataframe tbody tr th:only-of-type {\n",
       "        vertical-align: middle;\n",
       "    }\n",
       "\n",
       "    .dataframe tbody tr th {\n",
       "        vertical-align: top;\n",
       "    }\n",
       "\n",
       "    .dataframe thead th {\n",
       "        text-align: right;\n",
       "    }\n",
       "</style>\n",
       "<table border=\"1\" class=\"dataframe\">\n",
       "  <thead>\n",
       "    <tr style=\"text-align: right;\">\n",
       "      <th></th>\n",
       "      <th>id</th>\n",
       "      <th>case</th>\n",
       "      <th>day</th>\n",
       "      <th>slice</th>\n",
       "    </tr>\n",
       "  </thead>\n",
       "  <tbody>\n",
       "    <tr>\n",
       "      <th>0</th>\n",
       "      <td>case123_day20_slice_0001</td>\n",
       "      <td>123</td>\n",
       "      <td>20</td>\n",
       "      <td>0001</td>\n",
       "    </tr>\n",
       "    <tr>\n",
       "      <th>1</th>\n",
       "      <td>case123_day20_slice_0002</td>\n",
       "      <td>123</td>\n",
       "      <td>20</td>\n",
       "      <td>0002</td>\n",
       "    </tr>\n",
       "    <tr>\n",
       "      <th>2</th>\n",
       "      <td>case123_day20_slice_0003</td>\n",
       "      <td>123</td>\n",
       "      <td>20</td>\n",
       "      <td>0003</td>\n",
       "    </tr>\n",
       "    <tr>\n",
       "      <th>3</th>\n",
       "      <td>case123_day20_slice_0004</td>\n",
       "      <td>123</td>\n",
       "      <td>20</td>\n",
       "      <td>0004</td>\n",
       "    </tr>\n",
       "    <tr>\n",
       "      <th>4</th>\n",
       "      <td>case123_day20_slice_0005</td>\n",
       "      <td>123</td>\n",
       "      <td>20</td>\n",
       "      <td>0005</td>\n",
       "    </tr>\n",
       "  </tbody>\n",
       "</table>\n",
       "</div>"
      ],
      "text/plain": [
       "                         id case day slice\n",
       "0  case123_day20_slice_0001  123  20  0001\n",
       "1  case123_day20_slice_0002  123  20  0002\n",
       "2  case123_day20_slice_0003  123  20  0003\n",
       "3  case123_day20_slice_0004  123  20  0004\n",
       "4  case123_day20_slice_0005  123  20  0005"
      ]
     },
     "execution_count": 4,
     "metadata": {},
     "output_type": "execute_result"
    }
   ],
   "source": [
    "sub_df = pd.read_csv('../input/uw-madison-gi-tract-image-segmentation/sample_submission.csv')\n",
    "if not len(sub_df):\n",
    "    debug = True\n",
    "    sub_df = pd.read_csv(PATH + '/train.csv')\n",
    "    sub_df = sub_df.drop(columns=['class','segmentation']).drop_duplicates()\n",
    "else:\n",
    "    debug = False\n",
    "    sub_df = sub_df.drop(columns=['class','predicted']).drop_duplicates()\n",
    "\n",
    "\n",
    "ids = [row.split('_') for row in sub_df['id']]\n",
    "cases = [x[0][4:] for x in ids]\n",
    "days = [x[1][3:] for x in ids]\n",
    "slices = [x[3] for x in ids]\n",
    "\n",
    "sub_df['case'] = pd.Series(cases)\n",
    "sub_df['day'] = pd.Series(days)\n",
    "sub_df['slice'] = pd.Series(slices)\n",
    "\n",
    "sub_df = {\"id\": sub_df.id.values, \"case\": cases, \"day\": days, \"slice\": slices}\n",
    "\n",
    "sub_df = pd.DataFrame(sub_df)\n",
    "sub_df.head()"
   ]
  },
  {
   "cell_type": "code",
   "execution_count": 5,
   "id": "d0b2e73d",
   "metadata": {
    "execution": {
     "iopub.execute_input": "2022-06-19T10:44:34.290198Z",
     "iopub.status.busy": "2022-06-19T10:44:34.289678Z",
     "iopub.status.idle": "2022-06-19T10:44:39.073717Z",
     "shell.execute_reply": "2022-06-19T10:44:39.072861Z"
    },
    "papermill": {
     "duration": 4.792071,
     "end_time": "2022-06-19T10:44:39.075605",
     "exception": false,
     "start_time": "2022-06-19T10:44:34.283534",
     "status": "completed"
    },
    "tags": []
   },
   "outputs": [
    {
     "data": {
      "text/html": [
       "<div>\n",
       "<style scoped>\n",
       "    .dataframe tbody tr th:only-of-type {\n",
       "        vertical-align: middle;\n",
       "    }\n",
       "\n",
       "    .dataframe tbody tr th {\n",
       "        vertical-align: top;\n",
       "    }\n",
       "\n",
       "    .dataframe thead th {\n",
       "        text-align: right;\n",
       "    }\n",
       "</style>\n",
       "<table border=\"1\" class=\"dataframe\">\n",
       "  <thead>\n",
       "    <tr style=\"text-align: right;\">\n",
       "      <th></th>\n",
       "      <th>case</th>\n",
       "      <th>day</th>\n",
       "      <th>slice</th>\n",
       "      <th>path</th>\n",
       "      <th>height</th>\n",
       "      <th>width</th>\n",
       "    </tr>\n",
       "  </thead>\n",
       "  <tbody>\n",
       "    <tr>\n",
       "      <th>0</th>\n",
       "      <td>36</td>\n",
       "      <td>14</td>\n",
       "      <td>0006</td>\n",
       "      <td>/kaggle/input/uw-madison-gi-tract-image-segmen...</td>\n",
       "      <td>266</td>\n",
       "      <td>266</td>\n",
       "    </tr>\n",
       "    <tr>\n",
       "      <th>1</th>\n",
       "      <td>36</td>\n",
       "      <td>14</td>\n",
       "      <td>0082</td>\n",
       "      <td>/kaggle/input/uw-madison-gi-tract-image-segmen...</td>\n",
       "      <td>266</td>\n",
       "      <td>266</td>\n",
       "    </tr>\n",
       "    <tr>\n",
       "      <th>2</th>\n",
       "      <td>36</td>\n",
       "      <td>14</td>\n",
       "      <td>0113</td>\n",
       "      <td>/kaggle/input/uw-madison-gi-tract-image-segmen...</td>\n",
       "      <td>266</td>\n",
       "      <td>266</td>\n",
       "    </tr>\n",
       "    <tr>\n",
       "      <th>3</th>\n",
       "      <td>36</td>\n",
       "      <td>14</td>\n",
       "      <td>0076</td>\n",
       "      <td>/kaggle/input/uw-madison-gi-tract-image-segmen...</td>\n",
       "      <td>266</td>\n",
       "      <td>266</td>\n",
       "    </tr>\n",
       "    <tr>\n",
       "      <th>4</th>\n",
       "      <td>36</td>\n",
       "      <td>14</td>\n",
       "      <td>0125</td>\n",
       "      <td>/kaggle/input/uw-madison-gi-tract-image-segmen...</td>\n",
       "      <td>266</td>\n",
       "      <td>266</td>\n",
       "    </tr>\n",
       "  </tbody>\n",
       "</table>\n",
       "</div>"
      ],
      "text/plain": [
       "  case day slice                                               path  height  \\\n",
       "0   36  14  0006  /kaggle/input/uw-madison-gi-tract-image-segmen...     266   \n",
       "1   36  14  0082  /kaggle/input/uw-madison-gi-tract-image-segmen...     266   \n",
       "2   36  14  0113  /kaggle/input/uw-madison-gi-tract-image-segmen...     266   \n",
       "3   36  14  0076  /kaggle/input/uw-madison-gi-tract-image-segmen...     266   \n",
       "4   36  14  0125  /kaggle/input/uw-madison-gi-tract-image-segmen...     266   \n",
       "\n",
       "   width  \n",
       "0    266  \n",
       "1    266  \n",
       "2    266  \n",
       "3    266  \n",
       "4    266  "
      ]
     },
     "execution_count": 5,
     "metadata": {},
     "output_type": "execute_result"
    }
   ],
   "source": [
    "if debug:\n",
    "    paths = glob.glob(f'/kaggle/input/uw-madison-gi-tract-image-segmentation/train/**/*png', recursive=True)\n",
    "else:\n",
    "    paths = glob.glob(f'/kaggle/input/uw-madison-gi-tract-image-segmentation/test/**/*png', recursive=True)\n",
    "\n",
    "all_imgs_info = {\"case\": [], \"day\": [], \"slice\": [], \"path\": [], \"height\": [], \"width\": []}\n",
    "\n",
    "for i in paths:\n",
    "    all_imgs_info['case'].append(i.split('/')[5][4:])\n",
    "    all_imgs_info['day'].append(i.split('/')[6].split('_')[1][3:])\n",
    "    all_imgs_info['slice'].append(i.split('/')[-1].split('_')[1])\n",
    "    all_imgs_info['height'].append(int(i.split('/')[-1].split('_')[2:4][0]))\n",
    "    all_imgs_info['width'].append(int(i.split('/')[-1].split('_')[2:4][1]))\n",
    "    all_imgs_info['path'].append(i)\n",
    "\n",
    "all_imgs_info = pd.DataFrame(all_imgs_info)\n",
    "all_imgs_info.head()"
   ]
  },
  {
   "cell_type": "code",
   "execution_count": 6,
   "id": "63a977df",
   "metadata": {
    "execution": {
     "iopub.execute_input": "2022-06-19T10:44:39.091751Z",
     "iopub.status.busy": "2022-06-19T10:44:39.091211Z",
     "iopub.status.idle": "2022-06-19T10:44:39.149838Z",
     "shell.execute_reply": "2022-06-19T10:44:39.149075Z"
    },
    "papermill": {
     "duration": 0.068067,
     "end_time": "2022-06-19T10:44:39.151574",
     "exception": false,
     "start_time": "2022-06-19T10:44:39.083507",
     "status": "completed"
    },
    "tags": []
   },
   "outputs": [
    {
     "data": {
      "text/html": [
       "<div>\n",
       "<style scoped>\n",
       "    .dataframe tbody tr th:only-of-type {\n",
       "        vertical-align: middle;\n",
       "    }\n",
       "\n",
       "    .dataframe tbody tr th {\n",
       "        vertical-align: top;\n",
       "    }\n",
       "\n",
       "    .dataframe thead th {\n",
       "        text-align: right;\n",
       "    }\n",
       "</style>\n",
       "<table border=\"1\" class=\"dataframe\">\n",
       "  <thead>\n",
       "    <tr style=\"text-align: right;\">\n",
       "      <th></th>\n",
       "      <th>id</th>\n",
       "      <th>case</th>\n",
       "      <th>day</th>\n",
       "      <th>slice</th>\n",
       "      <th>path</th>\n",
       "      <th>height</th>\n",
       "      <th>width</th>\n",
       "    </tr>\n",
       "  </thead>\n",
       "  <tbody>\n",
       "    <tr>\n",
       "      <th>0</th>\n",
       "      <td>case123_day20_slice_0001</td>\n",
       "      <td>123</td>\n",
       "      <td>20</td>\n",
       "      <td>0001</td>\n",
       "      <td>/kaggle/input/uw-madison-gi-tract-image-segmen...</td>\n",
       "      <td>266</td>\n",
       "      <td>266</td>\n",
       "    </tr>\n",
       "    <tr>\n",
       "      <th>1</th>\n",
       "      <td>case123_day20_slice_0002</td>\n",
       "      <td>123</td>\n",
       "      <td>20</td>\n",
       "      <td>0002</td>\n",
       "      <td>/kaggle/input/uw-madison-gi-tract-image-segmen...</td>\n",
       "      <td>266</td>\n",
       "      <td>266</td>\n",
       "    </tr>\n",
       "    <tr>\n",
       "      <th>2</th>\n",
       "      <td>case123_day20_slice_0003</td>\n",
       "      <td>123</td>\n",
       "      <td>20</td>\n",
       "      <td>0003</td>\n",
       "      <td>/kaggle/input/uw-madison-gi-tract-image-segmen...</td>\n",
       "      <td>266</td>\n",
       "      <td>266</td>\n",
       "    </tr>\n",
       "    <tr>\n",
       "      <th>3</th>\n",
       "      <td>case123_day20_slice_0004</td>\n",
       "      <td>123</td>\n",
       "      <td>20</td>\n",
       "      <td>0004</td>\n",
       "      <td>/kaggle/input/uw-madison-gi-tract-image-segmen...</td>\n",
       "      <td>266</td>\n",
       "      <td>266</td>\n",
       "    </tr>\n",
       "    <tr>\n",
       "      <th>4</th>\n",
       "      <td>case123_day20_slice_0005</td>\n",
       "      <td>123</td>\n",
       "      <td>20</td>\n",
       "      <td>0005</td>\n",
       "      <td>/kaggle/input/uw-madison-gi-tract-image-segmen...</td>\n",
       "      <td>266</td>\n",
       "      <td>266</td>\n",
       "    </tr>\n",
       "  </tbody>\n",
       "</table>\n",
       "</div>"
      ],
      "text/plain": [
       "                         id case day slice  \\\n",
       "0  case123_day20_slice_0001  123  20  0001   \n",
       "1  case123_day20_slice_0002  123  20  0002   \n",
       "2  case123_day20_slice_0003  123  20  0003   \n",
       "3  case123_day20_slice_0004  123  20  0004   \n",
       "4  case123_day20_slice_0005  123  20  0005   \n",
       "\n",
       "                                                path  height  width  \n",
       "0  /kaggle/input/uw-madison-gi-tract-image-segmen...     266    266  \n",
       "1  /kaggle/input/uw-madison-gi-tract-image-segmen...     266    266  \n",
       "2  /kaggle/input/uw-madison-gi-tract-image-segmen...     266    266  \n",
       "3  /kaggle/input/uw-madison-gi-tract-image-segmen...     266    266  \n",
       "4  /kaggle/input/uw-madison-gi-tract-image-segmen...     266    266  "
      ]
     },
     "execution_count": 6,
     "metadata": {},
     "output_type": "execute_result"
    }
   ],
   "source": [
    "test_df = sub_df.merge(all_imgs_info, on=['case','day','slice'], how='left')\n",
    "test_df.head()"
   ]
  },
  {
   "cell_type": "code",
   "execution_count": 7,
   "id": "54f4a3f8",
   "metadata": {
    "execution": {
     "iopub.execute_input": "2022-06-19T10:44:39.164682Z",
     "iopub.status.busy": "2022-06-19T10:44:39.164057Z",
     "iopub.status.idle": "2022-06-19T10:44:39.169327Z",
     "shell.execute_reply": "2022-06-19T10:44:39.168565Z"
    },
    "papermill": {
     "duration": 0.013469,
     "end_time": "2022-06-19T10:44:39.170877",
     "exception": false,
     "start_time": "2022-06-19T10:44:39.157408",
     "status": "completed"
    },
    "tags": []
   },
   "outputs": [],
   "source": [
    "def load_img(file_name, RESCALE_SIZE=RESCALE_SIZE):\n",
    "    image = Image.open(file_name)\n",
    "    image = image.resize((RESCALE_SIZE, RESCALE_SIZE))\n",
    "    image = np.array(image, dtype='float32')\n",
    "    image = np.tile(image[...,None], [1, 1, 3])\n",
    "    mx = np.max(image)\n",
    "    if mx:\n",
    "        image /= mx\n",
    "    return image"
   ]
  },
  {
   "cell_type": "code",
   "execution_count": 8,
   "id": "40b1ccf1",
   "metadata": {
    "execution": {
     "iopub.execute_input": "2022-06-19T10:44:39.183564Z",
     "iopub.status.busy": "2022-06-19T10:44:39.182855Z",
     "iopub.status.idle": "2022-06-19T10:44:39.190456Z",
     "shell.execute_reply": "2022-06-19T10:44:39.189797Z"
    },
    "papermill": {
     "duration": 0.015492,
     "end_time": "2022-06-19T10:44:39.192051",
     "exception": false,
     "start_time": "2022-06-19T10:44:39.176559",
     "status": "completed"
    },
    "tags": []
   },
   "outputs": [],
   "source": [
    "class BuildDataset(torch.utils.data.Dataset):\n",
    "    def __init__(self, df):\n",
    "        self.df = df\n",
    "        self.id = df['id'].values\n",
    "        self.img_paths = df['path'].values\n",
    "        \n",
    "    def __len__(self):\n",
    "        return len(self.df)\n",
    "    \n",
    "    def __getitem__(self, index):\n",
    "        img_path  = self.img_paths[index]\n",
    "        img = []\n",
    "        img = load_img(img_path)\n",
    "        idf = self.df[self.df['id'] == self.id[index]]\n",
    "        h, w = idf['height'].values[0], idf['width'].values[0]\n",
    "\n",
    "        img = np.transpose(img, (2, 0, 1))\n",
    "\n",
    "        return torch.tensor(img), self.id[index], h, w"
   ]
  },
  {
   "cell_type": "code",
   "execution_count": 9,
   "id": "d372bc71",
   "metadata": {
    "execution": {
     "iopub.execute_input": "2022-06-19T10:44:39.204968Z",
     "iopub.status.busy": "2022-06-19T10:44:39.204343Z",
     "iopub.status.idle": "2022-06-19T10:44:39.213552Z",
     "shell.execute_reply": "2022-06-19T10:44:39.212861Z"
    },
    "papermill": {
     "duration": 0.0171,
     "end_time": "2022-06-19T10:44:39.215186",
     "exception": false,
     "start_time": "2022-06-19T10:44:39.198086",
     "status": "completed"
    },
    "tags": []
   },
   "outputs": [],
   "source": [
    "def rle_encode(img):\n",
    "\n",
    "    pixels = img.flatten()\n",
    "    pad    = np.array([0])\n",
    "    pixels = np.concatenate([pad, pixels, pad])\n",
    "    runs = np.where(pixels[1:] != pixels[:-1])[0] + 1\n",
    "    runs[1::2] -= runs[::2]\n",
    "    runs = ' '.join(str(x) for x in runs)\n",
    "    \n",
    "    return runs\n",
    "\n",
    "                             \n",
    "def masks_pred(msks, ids, heights, widths):\n",
    "    pred_strings = []; pred_ids = []; pred_classes = [];\n",
    "    for idx in range(msks.shape[0]):\n",
    "        height = heights[idx].item()\n",
    "        width = widths[idx].item()\n",
    "        msk = cv2.resize(msks[idx], \n",
    "                         dsize=(width, height), \n",
    "                         interpolation=cv2.INTER_NEAREST)\n",
    "        rle = [None]*3\n",
    "        for midx in [0, 1, 2]:\n",
    "            rle[midx] = rle_encode(msk[...,midx])\n",
    "        pred_strings.extend(rle)\n",
    "        pred_ids.extend([ids[idx]]*len(rle))\n",
    "        pred_classes.extend(['large_bowel', 'small_bowel', 'stomach'])\n",
    "    return pred_strings, pred_ids, pred_classes"
   ]
  },
  {
   "cell_type": "code",
   "execution_count": 10,
   "id": "c17d7cc4",
   "metadata": {
    "execution": {
     "iopub.execute_input": "2022-06-19T10:44:39.227967Z",
     "iopub.status.busy": "2022-06-19T10:44:39.227361Z",
     "iopub.status.idle": "2022-06-19T10:44:39.234635Z",
     "shell.execute_reply": "2022-06-19T10:44:39.233935Z"
    },
    "papermill": {
     "duration": 0.015444,
     "end_time": "2022-06-19T10:44:39.236286",
     "exception": false,
     "start_time": "2022-06-19T10:44:39.220842",
     "status": "completed"
    },
    "tags": []
   },
   "outputs": [],
   "source": [
    "@torch.no_grad()\n",
    "def test(model, test_data, th=0.5):\n",
    "    model.eval()\n",
    "    k = 0\n",
    "    pred_strings = []; pred_ids = []; pred_classes = [];\n",
    "    for (img, ids, heights, widths) in test_data:\n",
    "        img = img.to(device, dtype=torch.float)\n",
    "        size = img.size()\n",
    "\n",
    "        y_pred = model(img)\n",
    "        y_pred = nn.Sigmoid()(y_pred)\n",
    "\n",
    "        msk = (y_pred.permute((0,2,3,1)) > th).to(torch.uint8).cpu().detach().numpy()\n",
    "        result = masks_pred(msk, ids, heights, widths)\n",
    "\n",
    "        pred_strings.extend(result[0])\n",
    "        pred_ids.extend(result[1])\n",
    "        pred_classes.extend(result[2])\n",
    "        k += 1\n",
    "        if k % 100 == 0:\n",
    "            print(k)\n",
    "    return pred_strings, pred_ids, pred_classes"
   ]
  },
  {
   "cell_type": "code",
   "execution_count": 11,
   "id": "aeb0b6a2",
   "metadata": {
    "execution": {
     "iopub.execute_input": "2022-06-19T10:44:39.248840Z",
     "iopub.status.busy": "2022-06-19T10:44:39.248589Z",
     "iopub.status.idle": "2022-06-19T10:44:39.252767Z",
     "shell.execute_reply": "2022-06-19T10:44:39.252069Z"
    },
    "papermill": {
     "duration": 0.01231,
     "end_time": "2022-06-19T10:44:39.254417",
     "exception": false,
     "start_time": "2022-06-19T10:44:39.242107",
     "status": "completed"
    },
    "tags": []
   },
   "outputs": [],
   "source": [
    "test_dataset = BuildDataset(test_df)\n",
    "test_loader = DataLoader(test_dataset, batch_size=batch_size, shuffle=False)"
   ]
  },
  {
   "cell_type": "code",
   "execution_count": 12,
   "id": "6ec989f2",
   "metadata": {
    "execution": {
     "iopub.execute_input": "2022-06-19T10:44:39.266766Z",
     "iopub.status.busy": "2022-06-19T10:44:39.266134Z",
     "iopub.status.idle": "2022-06-19T10:44:44.008520Z",
     "shell.execute_reply": "2022-06-19T10:44:44.007607Z"
    },
    "papermill": {
     "duration": 4.750662,
     "end_time": "2022-06-19T10:44:44.010605",
     "exception": false,
     "start_time": "2022-06-19T10:44:39.259943",
     "status": "completed"
    },
    "tags": []
   },
   "outputs": [],
   "source": [
    "# smp_UnetPlusPlusefficientnet_b1 = smp.UnetPlusPlus (\n",
    "#         encoder_name='efficientnet-b1',\n",
    "#         encoder_weights=None,\n",
    "#         classes=3,\n",
    "#         activation=None,\n",
    "#     ).to(device)\n",
    "\n",
    "# smp_UnetPlusPlus_resnet18 = smp.UnetPlusPlus (\n",
    "#         encoder_name='resnet18',\n",
    "#         encoder_weights=None,\n",
    "#         classes=3,\n",
    "#         activation=None,\n",
    "#     ).to(device);\n",
    "\n",
    "smp_UnetPlusPlus_efficientnet_b3 = smp.UnetPlusPlus (\n",
    "        encoder_name='efficientnet-b3',\n",
    "        encoder_weights=None,\n",
    "        classes=3,\n",
    "        activation=None,\n",
    "    ).to(device);"
   ]
  },
  {
   "cell_type": "code",
   "execution_count": 13,
   "id": "ff57c83c",
   "metadata": {
    "execution": {
     "iopub.execute_input": "2022-06-19T10:44:44.024328Z",
     "iopub.status.busy": "2022-06-19T10:44:44.023533Z",
     "iopub.status.idle": "2022-06-19T10:44:45.032662Z",
     "shell.execute_reply": "2022-06-19T10:44:45.031908Z"
    },
    "papermill": {
     "duration": 1.017637,
     "end_time": "2022-06-19T10:44:45.034532",
     "exception": false,
     "start_time": "2022-06-19T10:44:44.016895",
     "status": "completed"
    },
    "tags": []
   },
   "outputs": [
    {
     "data": {
      "text/plain": [
       "<All keys matched successfully>"
      ]
     },
     "execution_count": 13,
     "metadata": {},
     "output_type": "execute_result"
    }
   ],
   "source": [
    "# smp_UnetPlusPlusefficientnet_b1.load_state_dict(torch.load('../input/unetplusplus/smp_UnetPlusPlusefficientnet_b1', map_location=torch.device(device)))\n",
    "smp_UnetPlusPlus_efficientnet_b3.load_state_dict(torch.load('../input/unetplusplus/smp_UnetPlusPlus_efficientnet_b3', map_location=torch.device(device)))\n",
    "# smp_UnetPlusPlus_resnet18.load_state_dict(torch.load('../input/unetplusplus/smp_UnetPlusPlus_resnet18', map_location=torch.device(device)))"
   ]
  },
  {
   "cell_type": "code",
   "execution_count": 14,
   "id": "db1c95e5",
   "metadata": {
    "execution": {
     "iopub.execute_input": "2022-06-19T10:44:45.048629Z",
     "iopub.status.busy": "2022-06-19T10:44:45.048325Z",
     "iopub.status.idle": "2022-06-19T10:59:07.376594Z",
     "shell.execute_reply": "2022-06-19T10:59:07.375758Z"
    },
    "papermill": {
     "duration": 862.338266,
     "end_time": "2022-06-19T10:59:07.378948",
     "exception": false,
     "start_time": "2022-06-19T10:44:45.040682",
     "status": "completed"
    },
    "tags": []
   },
   "outputs": [
    {
     "name": "stdout",
     "output_type": "stream",
     "text": [
      "100\n",
      "200\n",
      "300\n",
      "400\n",
      "500\n",
      "600\n",
      "700\n",
      "800\n",
      "900\n",
      "1000\n",
      "1100\n",
      "1200\n"
     ]
    }
   ],
   "source": [
    "# pred_strings, pred_ids, pred_classes = test(smp_UnetPlusPlusefficientnet_b1, test_loader)\n",
    "pred_strings, pred_ids, pred_classes = test(smp_UnetPlusPlus_efficientnet_b3, test_loader)\n",
    "# pred_strings, pred_ids, pred_classes = test(smp_UnetPlusPlus_resnet18, test_loader)"
   ]
  },
  {
   "cell_type": "code",
   "execution_count": 15,
   "id": "4817d84b",
   "metadata": {
    "execution": {
     "iopub.execute_input": "2022-06-19T10:59:07.393386Z",
     "iopub.status.busy": "2022-06-19T10:59:07.393085Z",
     "iopub.status.idle": "2022-06-19T10:59:08.765847Z",
     "shell.execute_reply": "2022-06-19T10:59:08.765133Z"
    },
    "papermill": {
     "duration": 1.382001,
     "end_time": "2022-06-19T10:59:08.767669",
     "exception": false,
     "start_time": "2022-06-19T10:59:07.385668",
     "status": "completed"
    },
    "tags": []
   },
   "outputs": [
    {
     "data": {
      "text/html": [
       "<div>\n",
       "<style scoped>\n",
       "    .dataframe tbody tr th:only-of-type {\n",
       "        vertical-align: middle;\n",
       "    }\n",
       "\n",
       "    .dataframe tbody tr th {\n",
       "        vertical-align: top;\n",
       "    }\n",
       "\n",
       "    .dataframe thead th {\n",
       "        text-align: right;\n",
       "    }\n",
       "</style>\n",
       "<table border=\"1\" class=\"dataframe\">\n",
       "  <thead>\n",
       "    <tr style=\"text-align: right;\">\n",
       "      <th></th>\n",
       "      <th>id</th>\n",
       "      <th>class</th>\n",
       "      <th>predicted</th>\n",
       "    </tr>\n",
       "  </thead>\n",
       "  <tbody>\n",
       "    <tr>\n",
       "      <th>0</th>\n",
       "      <td>case123_day20_slice_0001</td>\n",
       "      <td>large_bowel</td>\n",
       "      <td></td>\n",
       "    </tr>\n",
       "    <tr>\n",
       "      <th>1</th>\n",
       "      <td>case123_day20_slice_0001</td>\n",
       "      <td>small_bowel</td>\n",
       "      <td></td>\n",
       "    </tr>\n",
       "    <tr>\n",
       "      <th>2</th>\n",
       "      <td>case123_day20_slice_0001</td>\n",
       "      <td>stomach</td>\n",
       "      <td></td>\n",
       "    </tr>\n",
       "    <tr>\n",
       "      <th>3</th>\n",
       "      <td>case123_day20_slice_0002</td>\n",
       "      <td>large_bowel</td>\n",
       "      <td></td>\n",
       "    </tr>\n",
       "    <tr>\n",
       "      <th>4</th>\n",
       "      <td>case123_day20_slice_0002</td>\n",
       "      <td>small_bowel</td>\n",
       "      <td></td>\n",
       "    </tr>\n",
       "  </tbody>\n",
       "</table>\n",
       "</div>"
      ],
      "text/plain": [
       "                         id        class predicted\n",
       "0  case123_day20_slice_0001  large_bowel          \n",
       "1  case123_day20_slice_0001  small_bowel          \n",
       "2  case123_day20_slice_0001      stomach          \n",
       "3  case123_day20_slice_0002  large_bowel          \n",
       "4  case123_day20_slice_0002  small_bowel          "
      ]
     },
     "metadata": {},
     "output_type": "display_data"
    }
   ],
   "source": [
    "pred_df = pd.DataFrame({\n",
    "    \"id\":pred_ids,\n",
    "    \"class\":pred_classes,\n",
    "    \"predicted\":pred_strings\n",
    "})\n",
    "\n",
    "if not debug:\n",
    "    sub_df = pd.read_csv(PATH + '/sample_submission.csv')\n",
    "    del sub_df['predicted']\n",
    "else:\n",
    "    sub_df = pd.read_csv('../input/uw-madison-gi-tract-image-segmentation/train.csv')\n",
    "    del sub_df['segmentation']\n",
    "\n",
    "sub_df = sub_df.merge(pred_df, on=['id','class'])\n",
    "sub_df.to_csv('submission.csv',index=False)\n",
    "display(sub_df.head(5))"
   ]
  }
 ],
 "metadata": {
  "kernelspec": {
   "display_name": "Python 3",
   "language": "python",
   "name": "python3"
  },
  "language_info": {
   "codemirror_mode": {
    "name": "ipython",
    "version": 3
   },
   "file_extension": ".py",
   "mimetype": "text/x-python",
   "name": "python",
   "nbconvert_exporter": "python",
   "pygments_lexer": "ipython3",
   "version": "3.7.12"
  },
  "papermill": {
   "default_parameters": {},
   "duration": 910.579213,
   "end_time": "2022-06-19T10:59:12.275056",
   "environment_variables": {},
   "exception": null,
   "input_path": "__notebook__.ipynb",
   "output_path": "__notebook__.ipynb",
   "parameters": {},
   "start_time": "2022-06-19T10:44:01.695843",
   "version": "2.3.4"
  }
 },
 "nbformat": 4,
 "nbformat_minor": 5
}
